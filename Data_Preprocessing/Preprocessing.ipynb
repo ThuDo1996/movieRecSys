{
 "cells": [
  {
   "cell_type": "code",
   "execution_count": 23,
   "id": "41669660",
   "metadata": {},
   "outputs": [],
   "source": [
    "import pandas as pd\n",
    "import os\n",
    "import re"
   ]
  },
  {
   "cell_type": "code",
   "execution_count": 6,
   "id": "ad26363a",
   "metadata": {},
   "outputs": [],
   "source": [
    "# Define file directories\n",
    "MOVIELENS_DIR = '../Raw_Data/'\n",
    "USER_DATA_FILE = 'users.dat'\n",
    "MOVIE_DATA_FILE = 'movies.dat'\n",
    "RATING_DATA_FILE = 'ratings.dat'"
   ]
  },
  {
   "cell_type": "markdown",
   "id": "be856d89",
   "metadata": {},
   "source": [
    "### `MOVIE DATA`\n",
    "\n",
    "\n",
    "**Input:**  \n",
    "Raw movie information containing the following fields:  \n",
    "- `movie_id`\n",
    "- `title` (including year: Ex: Toy story (1995))\n",
    "- `genres` (e.g., multiple genres separated by delimiters)\n",
    "\n",
    "**Output:**  \n",
    "The raw data is cleaned and normalized into three separate relational tables to support efficient querying and database normalization:\n",
    "\n",
    "1. **`movie`**  \n",
    "   - Fields: `movie_id`, `name`, `year` \n",
    "   - Stores basic movie metadata.\n",
    "\n",
    "2. **`genre`**  \n",
    "   - Fields: `genre_id`, `genre`  \n",
    "   - Contains the unique list of movie genres.\n",
    "\n",
    "3. **`movie_genre`**  \n",
    "   - Fields: `movie_id`, `genre_id`  \n",
    "   - Maps each movie to its corresponding genres (many-to-many relationship)."
   ]
  },
  {
   "cell_type": "code",
   "execution_count": 36,
   "id": "9adfecba",
   "metadata": {},
   "outputs": [
    {
     "data": {
      "text/html": [
       "<div>\n",
       "<style scoped>\n",
       "    .dataframe tbody tr th:only-of-type {\n",
       "        vertical-align: middle;\n",
       "    }\n",
       "\n",
       "    .dataframe tbody tr th {\n",
       "        vertical-align: top;\n",
       "    }\n",
       "\n",
       "    .dataframe thead th {\n",
       "        text-align: right;\n",
       "    }\n",
       "</style>\n",
       "<table border=\"1\" class=\"dataframe\">\n",
       "  <thead>\n",
       "    <tr style=\"text-align: right;\">\n",
       "      <th></th>\n",
       "      <th>movie_id</th>\n",
       "      <th>title</th>\n",
       "      <th>genres</th>\n",
       "    </tr>\n",
       "  </thead>\n",
       "  <tbody>\n",
       "    <tr>\n",
       "      <th>0</th>\n",
       "      <td>0</td>\n",
       "      <td>Toy Story (1995)</td>\n",
       "      <td>Animation|Children's|Comedy</td>\n",
       "    </tr>\n",
       "    <tr>\n",
       "      <th>1</th>\n",
       "      <td>1</td>\n",
       "      <td>Jumanji (1995)</td>\n",
       "      <td>Adventure|Children's|Fantasy</td>\n",
       "    </tr>\n",
       "    <tr>\n",
       "      <th>2</th>\n",
       "      <td>2</td>\n",
       "      <td>Grumpier Old Men (1995)</td>\n",
       "      <td>Comedy|Romance</td>\n",
       "    </tr>\n",
       "    <tr>\n",
       "      <th>3</th>\n",
       "      <td>3</td>\n",
       "      <td>Waiting to Exhale (1995)</td>\n",
       "      <td>Comedy|Drama</td>\n",
       "    </tr>\n",
       "    <tr>\n",
       "      <th>4</th>\n",
       "      <td>4</td>\n",
       "      <td>Father of the Bride Part II (1995)</td>\n",
       "      <td>Comedy</td>\n",
       "    </tr>\n",
       "  </tbody>\n",
       "</table>\n",
       "</div>"
      ],
      "text/plain": [
       "   movie_id                               title                        genres\n",
       "0         0                    Toy Story (1995)   Animation|Children's|Comedy\n",
       "1         1                      Jumanji (1995)  Adventure|Children's|Fantasy\n",
       "2         2             Grumpier Old Men (1995)                Comedy|Romance\n",
       "3         3            Waiting to Exhale (1995)                  Comedy|Drama\n",
       "4         4  Father of the Bride Part II (1995)                        Comedy"
      ]
     },
     "execution_count": 36,
     "metadata": {},
     "output_type": "execute_result"
    }
   ],
   "source": [
    "movies = pd.read_csv(os.path.join(MOVIELENS_DIR, MOVIE_DATA_FILE), \n",
    "                    sep='::', \n",
    "                    engine='python', \n",
    "                    encoding='latin-1',\n",
    "                    names=['movie_id', 'title', 'genres'])\n",
    "movies['movie_id'] = movies['movie_id'] - 1\n",
    "movies.head(5)"
   ]
  },
  {
   "cell_type": "code",
   "execution_count": null,
   "id": "3eb77559",
   "metadata": {},
   "outputs": [
    {
     "name": "stdout",
     "output_type": "stream",
     "text": [
      "Updated Movie Table:\n"
     ]
    },
    {
     "data": {
      "text/html": [
       "<div>\n",
       "<style scoped>\n",
       "    .dataframe tbody tr th:only-of-type {\n",
       "        vertical-align: middle;\n",
       "    }\n",
       "\n",
       "    .dataframe tbody tr th {\n",
       "        vertical-align: top;\n",
       "    }\n",
       "\n",
       "    .dataframe thead th {\n",
       "        text-align: right;\n",
       "    }\n",
       "</style>\n",
       "<table border=\"1\" class=\"dataframe\">\n",
       "  <thead>\n",
       "    <tr style=\"text-align: right;\">\n",
       "      <th></th>\n",
       "      <th>movie_id</th>\n",
       "      <th>genres</th>\n",
       "      <th>name</th>\n",
       "      <th>year</th>\n",
       "    </tr>\n",
       "  </thead>\n",
       "  <tbody>\n",
       "    <tr>\n",
       "      <th>0</th>\n",
       "      <td>0</td>\n",
       "      <td>Animation|Children's|Comedy</td>\n",
       "      <td>Toy Story</td>\n",
       "      <td>1995</td>\n",
       "    </tr>\n",
       "    <tr>\n",
       "      <th>1</th>\n",
       "      <td>1</td>\n",
       "      <td>Adventure|Children's|Fantasy</td>\n",
       "      <td>Jumanji</td>\n",
       "      <td>1995</td>\n",
       "    </tr>\n",
       "    <tr>\n",
       "      <th>2</th>\n",
       "      <td>2</td>\n",
       "      <td>Comedy|Romance</td>\n",
       "      <td>Grumpier Old Men</td>\n",
       "      <td>1995</td>\n",
       "    </tr>\n",
       "    <tr>\n",
       "      <th>3</th>\n",
       "      <td>3</td>\n",
       "      <td>Comedy|Drama</td>\n",
       "      <td>Waiting to Exhale</td>\n",
       "      <td>1995</td>\n",
       "    </tr>\n",
       "    <tr>\n",
       "      <th>4</th>\n",
       "      <td>4</td>\n",
       "      <td>Comedy</td>\n",
       "      <td>Father of the Bride Part II</td>\n",
       "      <td>1995</td>\n",
       "    </tr>\n",
       "  </tbody>\n",
       "</table>\n",
       "</div>"
      ],
      "text/plain": [
       "   movie_id                        genres                         name  year\n",
       "0         0   Animation|Children's|Comedy                    Toy Story  1995\n",
       "1         1  Adventure|Children's|Fantasy                      Jumanji  1995\n",
       "2         2                Comedy|Romance             Grumpier Old Men  1995\n",
       "3         3                  Comedy|Drama            Waiting to Exhale  1995\n",
       "4         4                        Comedy  Father of the Bride Part II  1995"
      ]
     },
     "execution_count": 37,
     "metadata": {},
     "output_type": "execute_result"
    }
   ],
   "source": [
    "# Extract name and year from title\n",
    "def extract_title_year(title):\n",
    "    match = re.match(r'^(.*)\\s\\((\\d{4})\\)$', title)\n",
    "    if match:\n",
    "        return match.group(1), int(match.group(2))\n",
    "    return title, None\n",
    "\n",
    "movies[['name', 'year']] = movies['title'].apply(\n",
    "    lambda x: pd.Series(extract_title_year(x))\n",
    ")\n",
    "movies['year'] = movies['year'].astype('Int64')\n",
    "# Drop the original title column\n",
    "movies.drop(columns=['title'], inplace=True)\n",
    "\n",
    "# Display updated movie table\n",
    "print(\"Updated Movie Table:\")\n",
    "movies.head(5)"
   ]
  },
  {
   "cell_type": "code",
   "execution_count": 40,
   "id": "43fa6edc",
   "metadata": {},
   "outputs": [],
   "source": [
    "# Split genres into separate rows\n",
    "movie_genre_pairs = []\n",
    "genre_set = set()\n",
    "\n",
    "for _, row in movies.iterrows():\n",
    "    genres = row['genres'].split('|')\n",
    "    for genre in genres:\n",
    "        genre_set.add(genre)\n",
    "        movie_genre_pairs.append({'movie_id': row['movie_id'], 'genre': genre})\n",
    "\n",
    "# Create genre table with unique IDs\n",
    "genre_list = sorted(list(genre_set))\n",
    "genre_df = pd.DataFrame({\n",
    "    'genre_id': range(0, len(genre_list)),\n",
    "    'genre': genre_list\n",
    "})"
   ]
  },
  {
   "cell_type": "code",
   "execution_count": 41,
   "id": "62f0fec2",
   "metadata": {},
   "outputs": [],
   "source": [
    "# Create movie_genre mapping with genre_id\n",
    "movie_genre_df = pd.DataFrame(movie_genre_pairs)\n",
    "movie_genre_df = movie_genre_df.merge(genre_df, on='genre')[['movie_id', 'genre_id']]\n",
    "\n",
    "# Create movie table\n",
    "movie_df = movies[['movie_id', 'name', \"year\"]]"
   ]
  },
  {
   "cell_type": "code",
   "execution_count": 44,
   "id": "c5def36d",
   "metadata": {},
   "outputs": [],
   "source": [
    "movie_df.to_csv(\"../Preprocessed_Data/movies.csv\", index=False)\n",
    "genre_df.to_csv(\"../Preprocessed_Data/genres.csv\", index=False)\n",
    "movie_genre_df.to_csv(\"../Preprocessed_Data/movies-genre.csv\", index=False)"
   ]
  },
  {
   "cell_type": "code",
   "execution_count": null,
   "id": "09937810",
   "metadata": {},
   "outputs": [],
   "source": []
  }
 ],
 "metadata": {
  "kernelspec": {
   "display_name": "base",
   "language": "python",
   "name": "python3"
  },
  "language_info": {
   "codemirror_mode": {
    "name": "ipython",
    "version": 3
   },
   "file_extension": ".py",
   "mimetype": "text/x-python",
   "name": "python",
   "nbconvert_exporter": "python",
   "pygments_lexer": "ipython3",
   "version": "3.9.13"
  }
 },
 "nbformat": 4,
 "nbformat_minor": 5
}
